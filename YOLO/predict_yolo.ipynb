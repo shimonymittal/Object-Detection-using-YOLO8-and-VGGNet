{
  "nbformat": 4,
  "nbformat_minor": 0,
  "metadata": {
    "colab": {
      "provenance": []
    },
    "kernelspec": {
      "name": "python3",
      "display_name": "Python 3"
    },
    "language_info": {
      "name": "python"
    }
  },
  "cells": [
    {
      "cell_type": "markdown",
      "source": [
        "## Predict using saved model"
      ],
      "metadata": {
        "id": "HlkjaHc7IeYW"
      }
    },
    {
      "cell_type": "code",
      "execution_count": null,
      "metadata": {
        "id": "shPZ0GbkIZ-z"
      },
      "outputs": [],
      "source": [
        "!pip install ultralytics\n",
        "!pip install cvzone"
      ]
    },
    {
      "cell_type": "code",
      "source": [
        "from ultralytics import YOLO\n",
        "import  cv2\n",
        "import cvzone\n",
        "import math\n",
        "import matplotlib.pyplot as plt\n",
        "\n",
        "MODEL_PATH = \"/content/best.pt\"             #define the saved model path here\n",
        "TEST_PATH = \"/content/probe_test_images\"     # define the path here\n",
        "\n",
        "model_best = YOLO(MODEL_PATH)\n",
        "\n",
        "for img in os.listdir(TEST_PATH) :\n",
        "  results = model_best.predict(TEST_PATH + '/' + img)\n",
        "  imag = results[0].plot()\n",
        "  plt.figure(figsize=(5,5))\n",
        "  plt.imshow(imag)\n",
        "  plt.axis('off')\n",
        "  plt.show()"
      ],
      "metadata": {
        "id": "DoaI2l03Iav2"
      },
      "execution_count": null,
      "outputs": []
    }
  ]
}
